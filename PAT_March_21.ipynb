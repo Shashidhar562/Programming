{
 "cells": [
  {
   "cell_type": "code",
   "execution_count": null,
   "id": "e5d80093",
   "metadata": {},
   "outputs": [],
   "source": [
    "class\n",
    "object\n",
    "encapsulation\n",
    "inheritance\n"
   ]
  },
  {
   "cell_type": "code",
   "execution_count": 2,
   "id": "49cf9e32",
   "metadata": {},
   "outputs": [
    {
     "name": "stdout",
     "output_type": "stream",
     "text": [
      "Rajiv\n",
      "26\n",
      "hello Rahul\n"
     ]
    }
   ],
   "source": [
    "class student:\n",
    "    name=\"Rajiv\"\n",
    "    age=26\n",
    "    def greeting(self,name):\n",
    "        print(\"hello\",name)\n",
    "\n",
    "ob=student()\n",
    "print(ob.name)\n",
    "print(ob.age)\n",
    "ob.greeting(\"Rahul\")\n",
    "#self must be used to access variables in a class in oops. to access variable of other class use object"
   ]
  },
  {
   "cell_type": "code",
   "execution_count": 5,
   "id": "8c1cb6e7",
   "metadata": {},
   "outputs": [
    {
     "name": "stdout",
     "output_type": "stream",
     "text": [
      "this is a contructor\n",
      "rajiv\n"
     ]
    }
   ],
   "source": [
    "class student:\n",
    "    def __init__(self):\n",
    "        self.name=\"rajiv\"\n",
    "        print(\"this is a contructor\")\n",
    "    def hello(self):\n",
    "        print(self.name)\n",
    "ob=student()\n",
    "#print(ob.name)\n",
    "#print(ob.age)\n",
    "#ob.greeting(\"Rahul\")\n",
    "ob.hello()\n",
    "#self must be used to access variables in a class in oops. to access variable of other class use object"
   ]
  },
  {
   "cell_type": "code",
   "execution_count": 7,
   "id": "69e93059",
   "metadata": {},
   "outputs": [
    {
     "name": "stdout",
     "output_type": "stream",
     "text": [
      "mike\n",
      "jessy\n",
      "suresh\n"
     ]
    }
   ],
   "source": [
    "class student:\n",
    "    def __init__(self,name):\n",
    "        self.name=name\n",
    "        #print(\"this is a contructor\")\n",
    "    def hello(self):\n",
    "        print(self.name)\n",
    "ob1=student(\"mike\")\n",
    "ob2=student(\"jessy\")\n",
    "ob3=student(\"suresh\")\n",
    "\n",
    "ob1.hello()\n",
    "ob2.hello()\n",
    "ob3.hello()"
   ]
  },
  {
   "cell_type": "code",
   "execution_count": 13,
   "id": "dfeafa55",
   "metadata": {},
   "outputs": [
    {
     "name": "stdout",
     "output_type": "stream",
     "text": [
      "[1, 1, 1]\n",
      "[1, 1, 1, 10]\n"
     ]
    }
   ],
   "source": [
    "class student:\n",
    "    arr=[]\n",
    "    def add_ele(self,value):\n",
    "        self.arr.append(value)\n",
    "    def print_arr(self):\n",
    "        print(self.arr)\n",
    "\n",
    "ob1=student()\n",
    "ob1.add_ele(1)\n",
    "ob1.add_ele(1)\n",
    "ob1.add_ele(1)\n",
    "ob1.print_arr()\n",
    "\n",
    "ob2=student()\n",
    "ob2.add_ele(10)\n",
    "ob2.print_arr()\n"
   ]
  },
  {
   "cell_type": "code",
   "execution_count": 14,
   "id": "8a78fb27",
   "metadata": {},
   "outputs": [
    {
     "name": "stdout",
     "output_type": "stream",
     "text": [
      "[1, 1, 1]\n",
      "[10]\n"
     ]
    }
   ],
   "source": [
    "class student:\n",
    "    def __init__(self):\n",
    "        self.arr=[]\n",
    "    def add_ele(self,value):\n",
    "        self.arr.append(value)\n",
    "    def print_arr(self):\n",
    "        print(self.arr)\n",
    "\n",
    "ob1=student()\n",
    "ob1.add_ele(1)\n",
    "ob1.add_ele(1)\n",
    "ob1.add_ele(1)\n",
    "ob1.print_arr()\n",
    "\n",
    "ob2=student()\n",
    "ob2.add_ele(10)\n",
    "ob2.print_arr()\n"
   ]
  },
  {
   "cell_type": "code",
   "execution_count": 12,
   "id": "40101385",
   "metadata": {},
   "outputs": [
    {
     "name": "stdout",
     "output_type": "stream",
     "text": [
      "[100, 2, 3]\n",
      "[100, 2, 3]\n",
      "[1, 2, 3]\n"
     ]
    }
   ],
   "source": [
    "a=[1,2,3]\n",
    "b=a\n",
    "c=a.copy()\n",
    "b[0]=100\n",
    "print(a)\n",
    "print(b)\n",
    "print(c)\n",
    "#deep copy. to overcome deep copy use copy"
   ]
  },
  {
   "cell_type": "code",
   "execution_count": 16,
   "id": "abb9ce8f",
   "metadata": {},
   "outputs": [
    {
     "ename": "ModuleNotFoundError",
     "evalue": "No module named 'PAT'",
     "output_type": "error",
     "traceback": [
      "\u001b[1;31m---------------------------------------------------------------------------\u001b[0m",
      "\u001b[1;31mModuleNotFoundError\u001b[0m                       Traceback (most recent call last)",
      "\u001b[1;32m~\\AppData\\Local\\Temp\\ipykernel_17948\\4096345823.py\u001b[0m in \u001b[0;36m<module>\u001b[1;34m\u001b[0m\n\u001b[1;32m----> 1\u001b[1;33m \u001b[1;32mimport\u001b[0m \u001b[0mPAT\u001b[0m\u001b[1;33m\u001b[0m\u001b[1;33m\u001b[0m\u001b[0m\n\u001b[0m\u001b[0;32m      2\u001b[0m \u001b[0mabc\u001b[0m\u001b[1;33m=\u001b[0m\u001b[0mPAT\u001b[0m\u001b[1;33m.\u001b[0m\u001b[0mstudent\u001b[0m\u001b[1;33m(\u001b[0m\u001b[1;33m)\u001b[0m\u001b[1;33m\u001b[0m\u001b[1;33m\u001b[0m\u001b[0m\n\u001b[0;32m      3\u001b[0m \u001b[0mabc\u001b[0m\u001b[1;33m.\u001b[0m\u001b[0madd_ele\u001b[0m\u001b[1;33m(\u001b[0m\u001b[1;36m100\u001b[0m\u001b[1;33m)\u001b[0m\u001b[1;33m\u001b[0m\u001b[1;33m\u001b[0m\u001b[0m\n\u001b[0;32m      4\u001b[0m \u001b[0mabc\u001b[0m\u001b[1;33m.\u001b[0m\u001b[0madd_ele\u001b[0m\u001b[1;33m(\u001b[0m\u001b[1;36m100\u001b[0m\u001b[1;33m)\u001b[0m\u001b[1;33m\u001b[0m\u001b[1;33m\u001b[0m\u001b[0m\n\u001b[0;32m      5\u001b[0m \u001b[0mabc\u001b[0m\u001b[1;33m.\u001b[0m\u001b[0madd_ele\u001b[0m\u001b[1;33m(\u001b[0m\u001b[1;36m100\u001b[0m\u001b[1;33m)\u001b[0m\u001b[1;33m\u001b[0m\u001b[1;33m\u001b[0m\u001b[0m\n",
      "\u001b[1;31mModuleNotFoundError\u001b[0m: No module named 'PAT'"
     ]
    }
   ],
   "source": [
    "import PAT\n",
    "abc=PAT.student()\n",
    "abc.add_ele(100)\n",
    "abc.add_ele(100)\n",
    "abc.add_ele(100)\n",
    "abc.print_arr()\n",
    "#ERROR"
   ]
  },
  {
   "cell_type": "code",
   "execution_count": null,
   "id": "39fd4859",
   "metadata": {},
   "outputs": [],
   "source": [
    "\"\"\"Python program for check availabity of a specific model bike by checking from the database and updating accodingly\"\"\"\n",
    "class Bike:\n",
    "    def init(self, brand, model, mileage):\n",
    "        self.brand = brand\n",
    "        self.model = model\n",
    "        self.mileage = mileage\n",
    "    \n",
    "    def str(self):\n",
    "        return f\"{self.brand} {self.model}, {self.mileage}\"\n",
    "\n",
    "bike_inventory = {\n",
    "    \"Bike 1\": Bike(\"Honda\", \"CBR 250R\", \"35 kmpl\"),\n",
    "    \"Bike 2\": Bike(\"Yamaha\", \"R15\", \"45 kmpl\"),\n",
    "    \"Bike 3\": Bike(\"KTM\", \"Duke 390\", \"25 kmpl\")\n",
    "}\n",
    "\n",
    "def buy_bike(bike_name):\n",
    "    if bike_name in bike_inventory:\n",
    "        del bike_inventory[bike_name]\n",
    "        print(f\"{bike_name} sold!\")\n",
    "    else:\n",
    "        print(f\"No bike with name {bike_name} found in inventory.\")\n",
    "    \n",
    "def add_bike(bike_name, brand, model, mileage):\n",
    "    bike_inventory[bike_name] = Bike(brand, model, mileage)\n",
    "    print(f\"{bike_name} added to inventory!\")\n",
    "    \n",
    "def display_bikes():\n",
    "    print(\"Bike inventory:\")\n",
    "    for bike_name, bike in bike_inventory.items():\n",
    "        print(f\"{bike_name}: {bike}\")\n",
    "\n",
    "display_bikes()\n",
    "buy_bike(\"Bike 2\")\n",
    "display_bikes()\n",
    "add_bike(\"Bike 4\", \"Harley-Davidson\", \"Sportster 883\", \"20 kmpl\")\n",
    "display_bikes()\n",
    "        \n",
    "        \n",
    "        "
   ]
  },
  {
   "cell_type": "code",
   "execution_count": 21,
   "id": "81267080",
   "metadata": {},
   "outputs": [
    {
     "ename": "TypeError",
     "evalue": "Bike() takes no arguments",
     "output_type": "error",
     "traceback": [
      "\u001b[1;31m---------------------------------------------------------------------------\u001b[0m",
      "\u001b[1;31mTypeError\u001b[0m                                 Traceback (most recent call last)",
      "\u001b[1;32m~\\AppData\\Local\\Temp\\ipykernel_17948\\2220894338.py\u001b[0m in \u001b[0;36m<module>\u001b[1;34m\u001b[0m\n\u001b[0;32m     35\u001b[0m \u001b[1;33m\u001b[0m\u001b[0m\n\u001b[0;32m     36\u001b[0m \u001b[0mmanager\u001b[0m \u001b[1;33m=\u001b[0m \u001b[0mManager\u001b[0m\u001b[1;33m(\u001b[0m\u001b[1;33m)\u001b[0m\u001b[1;33m\u001b[0m\u001b[1;33m\u001b[0m\u001b[0m\n\u001b[1;32m---> 37\u001b[1;33m \u001b[0mmanager\u001b[0m\u001b[1;33m.\u001b[0m\u001b[0madd_bike\u001b[0m\u001b[1;33m(\u001b[0m\u001b[1;34m\"classic\"\u001b[0m\u001b[1;33m,\u001b[0m \u001b[1;36m33\u001b[0m\u001b[1;33m,\u001b[0m \u001b[1;34m\"2 lakhs\"\u001b[0m\u001b[1;33m)\u001b[0m\u001b[1;33m\u001b[0m\u001b[1;33m\u001b[0m\u001b[0m\n\u001b[0m\u001b[0;32m     38\u001b[0m \u001b[0mmanager\u001b[0m\u001b[1;33m.\u001b[0m\u001b[0madd_bike\u001b[0m\u001b[1;33m(\u001b[0m\u001b[1;34m\"thunderbird\"\u001b[0m\u001b[1;33m,\u001b[0m \u001b[1;36m35\u001b[0m\u001b[1;33m,\u001b[0m \u001b[1;34m\"3 lakhs\"\u001b[0m\u001b[1;33m)\u001b[0m\u001b[1;33m\u001b[0m\u001b[1;33m\u001b[0m\u001b[0m\n\u001b[0;32m     39\u001b[0m \u001b[0mmanager\u001b[0m\u001b[1;33m.\u001b[0m\u001b[0madd_bike\u001b[0m\u001b[1;33m(\u001b[0m\u001b[1;34m\"meteor\"\u001b[0m\u001b[1;33m,\u001b[0m \u001b[1;36m30\u001b[0m\u001b[1;33m,\u001b[0m \u001b[1;34m\"3.6 lakhs\"\u001b[0m\u001b[1;33m)\u001b[0m\u001b[1;33m\u001b[0m\u001b[1;33m\u001b[0m\u001b[0m\n",
      "\u001b[1;32m~\\AppData\\Local\\Temp\\ipykernel_17948\\2220894338.py\u001b[0m in \u001b[0;36madd_bike\u001b[1;34m(self, name, mil, price)\u001b[0m\n\u001b[0;32m     15\u001b[0m         \u001b[0mself\u001b[0m\u001b[1;33m.\u001b[0m\u001b[0mbikes\u001b[0m \u001b[1;33m=\u001b[0m \u001b[1;33m[\u001b[0m\u001b[1;33m]\u001b[0m\u001b[1;33m\u001b[0m\u001b[1;33m\u001b[0m\u001b[0m\n\u001b[0;32m     16\u001b[0m     \u001b[1;32mdef\u001b[0m \u001b[0madd_bike\u001b[0m\u001b[1;33m(\u001b[0m\u001b[0mself\u001b[0m\u001b[1;33m,\u001b[0m \u001b[0mname\u001b[0m\u001b[1;33m,\u001b[0m \u001b[0mmil\u001b[0m\u001b[1;33m,\u001b[0m \u001b[0mprice\u001b[0m\u001b[1;33m)\u001b[0m\u001b[1;33m:\u001b[0m\u001b[1;33m\u001b[0m\u001b[1;33m\u001b[0m\u001b[0m\n\u001b[1;32m---> 17\u001b[1;33m         \u001b[0mbike\u001b[0m \u001b[1;33m=\u001b[0m \u001b[0mBike\u001b[0m\u001b[1;33m(\u001b[0m\u001b[0mname\u001b[0m\u001b[1;33m,\u001b[0m \u001b[0mmil\u001b[0m\u001b[1;33m,\u001b[0m \u001b[0mprice\u001b[0m\u001b[1;33m)\u001b[0m\u001b[1;33m\u001b[0m\u001b[1;33m\u001b[0m\u001b[0m\n\u001b[0m\u001b[0;32m     18\u001b[0m         \u001b[0mself\u001b[0m\u001b[1;33m.\u001b[0m\u001b[0mbikes\u001b[0m\u001b[1;33m.\u001b[0m\u001b[0mappend\u001b[0m\u001b[1;33m(\u001b[0m\u001b[0mbike\u001b[0m\u001b[1;33m)\u001b[0m\u001b[1;33m\u001b[0m\u001b[1;33m\u001b[0m\u001b[0m\n\u001b[0;32m     19\u001b[0m     \u001b[1;32mdef\u001b[0m \u001b[0mshow_bike\u001b[0m\u001b[1;33m(\u001b[0m\u001b[0mself\u001b[0m\u001b[1;33m,\u001b[0m \u001b[0mname\u001b[0m\u001b[1;33m)\u001b[0m\u001b[1;33m:\u001b[0m\u001b[1;33m\u001b[0m\u001b[1;33m\u001b[0m\u001b[0m\n",
      "\u001b[1;31mTypeError\u001b[0m: Bike() takes no arguments"
     ]
    }
   ],
   "source": [
    "class Bike:\n",
    "    def init(self, name, mil, price):\n",
    "        self.name = name\n",
    "        self.mileage = mil\n",
    "        self.price = price\n",
    "    def getBike(self):\n",
    "        return {\n",
    "            \"name\": self.name,\n",
    "            \"mileage\": self.mileage,\n",
    "            \"price\": self.price\n",
    "        }\n",
    "\n",
    "class Manager:\n",
    "    def init(self):\n",
    "        self.bikes = []\n",
    "    def add_bike(self, name, mil, price):\n",
    "        bike = Bike(name, mil, price)\n",
    "        self.bikes.append(bike)\n",
    "    def show_bike(self, name):\n",
    "        for bike in self.bikes:\n",
    "            if bike.name == name:\n",
    "                print(bike.getBike())\n",
    "                return\n",
    "        return None\n",
    "    def buy_bike(self, bike_name):\n",
    "    #remove bike from array after puchasing it\n",
    "        for bike in self.bikes:\n",
    "            if bike.name == bike_name:\n",
    "                self.bikes.remove(bike)\n",
    "                return\n",
    "    def print_array(self):\n",
    "        for bike in self.bikes:\n",
    "            print(bike.getBike())\n",
    "\n",
    "\n",
    "manager = Manager()\n",
    "manager.add_bike(\"classic\", 33, \"2 lakhs\")\n",
    "manager.add_bike(\"thunderbird\", 35, \"3 lakhs\")\n",
    "manager.add_bike(\"meteor\", 30, \"3.6 lakhs\")\n",
    "manager.print_array()\n",
    "manager.show_bike(\"classic\")"
   ]
  },
  {
   "cell_type": "code",
   "execution_count": 20,
   "id": "87aff5ca",
   "metadata": {},
   "outputs": [
    {
     "name": "stdout",
     "output_type": "stream",
     "text": [
      "in class A\n"
     ]
    }
   ],
   "source": [
    "#Single inheritance\n",
    "class A:\n",
    "    def message(self):\n",
    "        print(\"in class A\")\n",
    "class B(A):\n",
    "    '''def message(self):\n",
    "        print(\"in class B\")\n",
    "'''\n",
    "    pass\n",
    "ob=B()\n",
    "ob.message()"
   ]
  },
  {
   "cell_type": "code",
   "execution_count": 23,
   "id": "eb936dab",
   "metadata": {},
   "outputs": [
    {
     "name": "stdout",
     "output_type": "stream",
     "text": [
      "in class a\n",
      "in class c\n"
     ]
    }
   ],
   "source": [
    "#hiearchical inheritance\n",
    "class A:\n",
    "    def message(self):\n",
    "        print(\"in class a\")\n",
    "class B(A):\n",
    "    def message_b(self):\n",
    "        print(\"in class b\")\n",
    "class C(A):\n",
    "    def message_c(self):\n",
    "        print(\"in class c\")\n",
    "\n",
    "ob=C()\n",
    "ob.message()\n",
    "ob.message_c()"
   ]
  },
  {
   "cell_type": "code",
   "execution_count": 26,
   "id": "237a6bb6",
   "metadata": {},
   "outputs": [
    {
     "name": "stdout",
     "output_type": "stream",
     "text": [
      "in class a\n",
      "in class b\n",
      "in class c\n"
     ]
    }
   ],
   "source": [
    "class A:\n",
    "    def message(self):\n",
    "        print(\"in class a\")\n",
    "class B(A):\n",
    "    def message_b(self):\n",
    "        print(\"in class b\")\n",
    "class C(B):\n",
    "    def message_c(self):\n",
    "        print(\"in class c\")\n",
    "\n",
    "ob=C()\n",
    "ob.message()\n",
    "ob.message_b()\n",
    "ob.message_c()\n"
   ]
  },
  {
   "cell_type": "code",
   "execution_count": 29,
   "id": "fb94012d",
   "metadata": {},
   "outputs": [
    {
     "name": "stdout",
     "output_type": "stream",
     "text": [
      "in class a\n",
      "in class b\n",
      "in class d\n"
     ]
    }
   ],
   "source": [
    "#Hybrid \n",
    "class A:\n",
    "    def message(self):\n",
    "        print(\"in class a\")\n",
    "class B(A):\n",
    "    def message_b(self):\n",
    "        print(\"in class b\")\n",
    "class C(A):\n",
    "    def message_c(self):\n",
    "        print(\"in class c\")\n",
    "class D(B,A):\n",
    "    def message_d(self):\n",
    "        \n",
    "        print(\"in class d\")\n",
    "ob=D()\n",
    "ob.message()\n",
    "ob.message_b()\n",
    "#ob.message_c()\n",
    "ob.message_d()\n"
   ]
  },
  {
   "cell_type": "code",
   "execution_count": 32,
   "id": "b247d460",
   "metadata": {},
   "outputs": [
    {
     "name": "stdout",
     "output_type": "stream",
     "text": [
      "in class A\n",
      "in class B\n"
     ]
    }
   ],
   "source": [
    "#Super keyword\n",
    "class A:\n",
    "    def message(self):\n",
    "        print(\"in class A\")\n",
    "class B(A):\n",
    "    def message(self):\n",
    "        super().message()\n",
    "        print(\"in class B\")\n",
    "\n",
    "ob=B()\n",
    "ob.message()"
   ]
  },
  {
   "cell_type": "code",
   "execution_count": 34,
   "id": "2f552dc0",
   "metadata": {},
   "outputs": [
    {
     "name": "stdout",
     "output_type": "stream",
     "text": [
      "in class A\n",
      "in class B\n"
     ]
    }
   ],
   "source": [
    "#Alternate of super\n",
    "class A:\n",
    "    def message(self):\n",
    "        print(\"in class A\")\n",
    "class B(A):\n",
    "    def message(self):\n",
    "        #super().message()\n",
    "        A().message()\n",
    "        print(\"in class B\")\n",
    "\n",
    "ob=B()\n",
    "ob.message()"
   ]
  },
  {
   "cell_type": "code",
   "execution_count": 36,
   "id": "c58d8259",
   "metadata": {},
   "outputs": [
    {
     "name": "stdout",
     "output_type": "stream",
     "text": [
      "in class b\n",
      "in class b\n",
      "in class d\n"
     ]
    }
   ],
   "source": [
    "#Hybrid \n",
    "class A:\n",
    "    def message(self):\n",
    "        print(\"in class a\")\n",
    "class B(A):\n",
    "    def message(self):\n",
    "        print(\"in class b\")\n",
    "class C(A):\n",
    "    def message(self):\n",
    "        print(\"in class c\")\n",
    "class D(B,C):\n",
    "    def message_d(self):\n",
    "        #super().message()\n",
    "        #super().message()\n",
    "        print(\"in class d\")\n",
    "ob=D()\n",
    "#ob.message()\n",
    "#ob.message_b()\n",
    "#ob.message_c()\n",
    "ob.message_d()\n"
   ]
  },
  {
   "cell_type": "code",
   "execution_count": 38,
   "id": "e7aae860",
   "metadata": {},
   "outputs": [
    {
     "name": "stdout",
     "output_type": "stream",
     "text": [
      "hyd\n",
      "blr\n",
      "che\n",
      "goi\n",
      "mub\n"
     ]
    }
   ],
   "source": [
    "'''hyd->blr\n",
    "   blr->che\n",
    "   che->goi\n",
    "   goi->mub\n",
    "   source:hyd\n",
    "   destination:mub'''\n",
    "class Node:\n",
    "   def __init__(self, dataval=None):\n",
    "      self.dataval = dataval\n",
    "      self.nextval = None\n",
    "\n",
    "class SLinkedList:\n",
    "   def __init__(self):\n",
    "      self.headval = None\n",
    "\n",
    "   def listprint(self):\n",
    "      printval = self.headval\n",
    "      while printval is not None:\n",
    "         print (printval.dataval)\n",
    "         printval = printval.nextval\n",
    "class search:\n",
    "    def in(self,source):\n",
    "        \n",
    "\n",
    "list = SLinkedList()\n",
    "list.headval = Node(\"hyd\")\n",
    "e2 = Node(\"blr\")\n",
    "e3 = Node(\"che\")\n",
    "e4=Node(\"goi\")\n",
    "e5=Node(\"mub\")\n",
    "\n",
    "# Link first Node to second node\n",
    "list.headval.nextval = e2\n",
    "\n",
    "# Link second Node to third node\n",
    "e2.nextval = e3\n",
    "\n",
    "e3.nextval=e4\n",
    "\n",
    "e4.nextval=e5\n",
    "\n",
    "\n",
    "list.listprint()"
   ]
  },
  {
   "cell_type": "code",
   "execution_count": 5,
   "id": "bd5ac496",
   "metadata": {},
   "outputs": [
    {
     "name": "stdout",
     "output_type": "stream",
     "text": [
      "message with data\n"
     ]
    }
   ],
   "source": [
    "#method overriding\n",
    "class A:\n",
    "    def message(self):\n",
    "        print(\"message\")\n",
    "    def message(self,data):\n",
    "        print(\"message with data\")\n",
    "ob=A()\n",
    "ob.message(10)"
   ]
  },
  {
   "cell_type": "code",
   "execution_count": null,
   "id": "0bca817c",
   "metadata": {},
   "outputs": [],
   "source": [
    "#method overriding\n",
    "class A:\n",
    "    def message(self):\n",
    "        print(\"hello\")\n",
    "    def message(self):\n",
    "        print('hellohello')\n",
    "ob=A()\n",
    "ob.message()"
   ]
  },
  {
   "cell_type": "code",
   "execution_count": 4,
   "id": "dbe3e515",
   "metadata": {},
   "outputs": [
    {
     "name": "stdout",
     "output_type": "stream",
     "text": [
      "hello\n"
     ]
    }
   ],
   "source": [
    "from abc import ABC,abstractmethod   #abc-abstract base class \n",
    "class example(ABC):\n",
    "    @abstractmethod #in abstract method we can define the body or 'pass' should be provided\n",
    "    def method_one(self):\n",
    "        print(\"h\")\n",
    "    #we should overide the method present in abstract class\n",
    "class exam(example):\n",
    "    def method_one(self):\n",
    "        print(\"hello\")\n",
    "ob=exam()\n",
    "ob.method_one()"
   ]
  },
  {
   "cell_type": "code",
   "execution_count": 5,
   "id": "2b045720",
   "metadata": {},
   "outputs": [
    {
     "name": "stdout",
     "output_type": "stream",
     "text": [
      "2 5 6 10 12 15 17 \n",
      "10 5 2 6 15 12 17 \n",
      "5 2 6 15 12 17 10 \n"
     ]
    }
   ],
   "source": [
    "class Node:\n",
    "    def __init__(self,value):\n",
    "        self.data=value\n",
    "        self.left=None\n",
    "        self.right=None\n",
    "\n",
    "class tree:\n",
    "    def add_ele(self,root,value):\n",
    "        new_node=Node(value)\n",
    "        if value<root.data:\n",
    "            if root.left==None:\n",
    "                root.left=new_node\n",
    "            else:\n",
    "                self.add_ele(root.left,value)      \n",
    "        \n",
    "        else:\n",
    "            if root.right==None:\n",
    "                root.right=new_node\n",
    "            else:\n",
    "                self.add_ele(root.right,value)\n",
    "        \n",
    "    def inorder(self,root):\n",
    "        if root.left!=None:\n",
    "            self.inorder(root.left)\n",
    "        print(root.data,end=\" \")    \n",
    "        if root.right!=None:\n",
    "            self.inorder(root.right)\n",
    "                \n",
    "    def preorder(self,root):\n",
    "        print(root.data,end=\" \")\n",
    "        if root.left!=None:\n",
    "            self.preorder(root.left)\n",
    "        if root.right!=None:\n",
    "            self.preorder(root.right)\n",
    "    \n",
    "    def postorder(self,root):\n",
    "        if root.left!=None:\n",
    "            self.preorder(root.left)\n",
    "        if root.right!=None:\n",
    "            self.preorder(root.right)\n",
    "        print(root.data,end=\" \")\n",
    "        \n",
    "#types of traversal in tree: inorder, preorder, postorder, spiral, level\n",
    "ob=tree()\n",
    "root=Node(10)\n",
    "ob.add_ele(root,5)\n",
    "ob.add_ele(root,15)\n",
    "ob.add_ele(root,2)\n",
    "ob.add_ele(root,6)\n",
    "ob.add_ele(root,12)\n",
    "ob.add_ele(root,17)\n",
    "ob.inorder(root)\n",
    "print()\n",
    "ob.preorder(root)\n",
    "print()\n",
    "ob.postorder(root)\n",
    "print()"
   ]
  },
  {
   "cell_type": "code",
   "execution_count": null,
   "id": "a8979531",
   "metadata": {},
   "outputs": [],
   "source": []
  }
 ],
 "metadata": {
  "kernelspec": {
   "display_name": "Python 3 (ipykernel)",
   "language": "python",
   "name": "python3"
  },
  "language_info": {
   "codemirror_mode": {
    "name": "ipython",
    "version": 3
   },
   "file_extension": ".py",
   "mimetype": "text/x-python",
   "name": "python",
   "nbconvert_exporter": "python",
   "pygments_lexer": "ipython3",
   "version": "3.9.13"
  }
 },
 "nbformat": 4,
 "nbformat_minor": 5
}
