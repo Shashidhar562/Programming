{
 "cells": [
  {
   "cell_type": "code",
   "execution_count": 1,
   "metadata": {},
   "outputs": [
    {
     "name": "stdout",
     "output_type": "stream",
     "text": [
      "Rajiv\n",
      "26\n",
      "hello Rahul\n"
     ]
    }
   ],
   "source": [
    "class student:\n",
    "    name=\"Rajiv\"\n",
    "    age=26\n",
    "    def greeting(self,name):\n",
    "        print(\"hello\",name)\n",
    "\n",
    "ob=student()\n",
    "print(ob.name)\n",
    "print(ob.age)\n",
    "ob.greeting(\"Rahul\")\n",
    "#self must be used to access variables in a class in oops. to access variable of other class use object"
   ]
  },
  {
   "cell_type": "code",
   "execution_count": 2,
   "metadata": {},
   "outputs": [
    {
     "name": "stdout",
     "output_type": "stream",
     "text": [
      "Mike\n",
      "Jessy\n",
      "Suresh\n"
     ]
    }
   ],
   "source": [
    "class Student:\n",
    "    def __init__(self,name) -> None:\n",
    "        self.name=name\n",
    "    def say_hello(self):\n",
    "        print(self.name)\n",
    "ob1=Student('Mike')\n",
    "ob2=Student('Jessy')\n",
    "ob3=Student('Suresh')\n",
    "ob1.say_hello()\n",
    "ob2.say_hello()\n",
    "ob3.say_hello() \n",
    "#constructor"
   ]
  },
  {
   "cell_type": "code",
   "execution_count": 3,
   "metadata": {},
   "outputs": [
    {
     "name": "stdout",
     "output_type": "stream",
     "text": [
      "[1, 2, 3]\n",
      "[1, 2, 3, 10]\n"
     ]
    }
   ],
   "source": [
    "class Student:\n",
    "    arr=[]\n",
    "    def adde(self,value):\n",
    "        self.arr.append(value)\n",
    "    def printa(self):\n",
    "        print(self.arr)\n",
    "ob1=Student()\n",
    "ob1.adde(1)\n",
    "ob1.adde(2)\n",
    "ob1.adde(3)\n",
    "ob1.printa()\n",
    "\n",
    "ob2=Student()\n",
    "ob1.adde(10)\n",
    "ob2.printa()"
   ]
  },
  {
   "cell_type": "code",
   "execution_count": 4,
   "metadata": {},
   "outputs": [
    {
     "name": "stdout",
     "output_type": "stream",
     "text": [
      "[100, 2, 3]\n",
      "[100, 2, 3]\n",
      "[1, 2, 3]\n"
     ]
    }
   ],
   "source": [
    "a=[1,2,3]\n",
    "b=a\n",
    "c=a.copy()\n",
    "b[0]=100\n",
    "print(a)\n",
    "print(b)\n",
    "print(c)"
   ]
  },
  {
   "cell_type": "code",
   "execution_count": 5,
   "metadata": {},
   "outputs": [
    {
     "name": "stdout",
     "output_type": "stream",
     "text": [
      "Remaining bikes:\n",
      "Bike 1: Honda CBR 250R, 35 kmpl\n",
      "Bike 3: KTM Duke 390, 25 kmpl\n"
     ]
    }
   ],
   "source": [
    "bike_details = {\n",
    "    \"Bike 1\": {\n",
    "        \"brand\": \"Honda\",\n",
    "        \"model\": \"CBR 250R\",\n",
    "        \"mileage\": \"35 kmpl\"\n",
    "    },\n",
    "    \"Bike 2\": {\n",
    "        \"brand\": \"Yamaha\",\n",
    "        \"model\": \"R15\",\n",
    "        \"mileage\": \"45 kmpl\"\n",
    "    },\n",
    "    \"Bike 3\": {\n",
    "        \"brand\": \"KTM\",\n",
    "        \"model\": \"Duke 390\",\n",
    "        \"mileage\": \"25 kmpl\"\n",
    "    }\n",
    "}\n",
    "\n",
    "sold_bike = 'Bike 2'\n",
    "del bike_details[sold_bike]\n",
    "\n",
    "print(\"Remaining bikes:\")\n",
    "for bike, details in bike_details.items():\n",
    "    print(f\"{bike}: {details['brand']} {details['model']}, {details['mileage']}\")\n"
   ]
  },
  {
   "cell_type": "code",
   "execution_count": 6,
   "metadata": {},
   "outputs": [
    {
     "name": "stdout",
     "output_type": "stream",
     "text": [
      "Bike inventory:\n",
      "Bike 1: Honda CBR 250R, 35 kmpl\n",
      "Bike 2: Yamaha R15, 45 kmpl\n",
      "Bike 3: KTM Duke 390, 25 kmpl\n",
      "No bike with name  found in inventory.\n",
      "Bike inventory:\n",
      "Bike 1: Honda CBR 250R, 35 kmpl\n",
      "Bike 2: Yamaha R15, 45 kmpl\n",
      "Bike 3: KTM Duke 390, 25 kmpl\n"
     ]
    }
   ],
   "source": [
    "class Bike:\n",
    "    def __init__(self, brand, model, mileage):\n",
    "        self.brand = brand\n",
    "        self.model = model\n",
    "        self.mileage = mileage\n",
    "    \n",
    "    def __str__(self):\n",
    "        return f\"{self.brand} {self.model}, {self.mileage}\"\n",
    "\n",
    "bike_inventory = {\n",
    "    \"Bike 1\": Bike(\"Honda\", \"CBR 250R\", \"35 kmpl\"),\n",
    "    \"Bike 2\": Bike(\"Yamaha\", \"R15\", \"45 kmpl\"),\n",
    "    \"Bike 3\": Bike(\"KTM\", \"Duke 390\", \"25 kmpl\")\n",
    "}\n",
    "\n",
    "def buy_bike(bike_name):\n",
    "    if bike_name in bike_inventory:\n",
    "        del bike_inventory[bike_name]\n",
    "        print(f\"{bike_name} sold!\")\n",
    "    else:\n",
    "        print(f\"No bike with name {bike_name} found in inventory.\")\n",
    "    \n",
    "def display_bikes():\n",
    "    print(\"Bike inventory:\")\n",
    "    for bike_name, bike in bike_inventory.items():\n",
    "        print(f\"{bike_name}: {bike}\")\n",
    "\n",
    "display_bikes()\n",
    "buy_bike(input())\n",
    "display_bikes()\n"
   ]
  },
  {
   "cell_type": "code",
   "execution_count": 7,
   "metadata": {},
   "outputs": [
    {
     "name": "stdout",
     "output_type": "stream",
     "text": [
      "Bike inventory:\n",
      "Bike 1: Honda CBR 250R, 35 kmpl\n",
      "Bike 2: Yamaha R15, 45 kmpl\n",
      "Bike 3: KTM Duke 390, 25 kmpl\n",
      "Bike 2 sold!\n",
      "Bike inventory:\n",
      "Bike 1: Honda CBR 250R, 35 kmpl\n",
      "Bike 3: KTM Duke 390, 25 kmpl\n",
      "Bike 4 added to inventory!\n",
      "Bike inventory:\n",
      "Bike 1: Honda CBR 250R, 35 kmpl\n",
      "Bike 3: KTM Duke 390, 25 kmpl\n",
      "Bike 4: Harley-Davidson Sportster 883, 20 kmpl\n"
     ]
    }
   ],
   "source": [
    "class Bike:\n",
    "    def __init__(self, brand, model, mileage):\n",
    "        self.brand = brand\n",
    "        self.model = model\n",
    "        self.mileage = mileage\n",
    "    \n",
    "    def __str__(self):\n",
    "        return f\"{self.brand} {self.model}, {self.mileage}\"\n",
    "\n",
    "bike_inventory = {\n",
    "    \"Bike 1\": Bike(\"Honda\", \"CBR 250R\", \"35 kmpl\"),\n",
    "    \"Bike 2\": Bike(\"Yamaha\", \"R15\", \"45 kmpl\"),\n",
    "    \"Bike 3\": Bike(\"KTM\", \"Duke 390\", \"25 kmpl\")\n",
    "}\n",
    "\n",
    "def buy_bike(bike_name):\n",
    "    if bike_name in bike_inventory:\n",
    "        del bike_inventory[bike_name]\n",
    "        print(f\"{bike_name} sold!\")\n",
    "    else:\n",
    "        print(f\"No bike with name {bike_name} found in inventory.\")\n",
    "    \n",
    "def add_bike(bike_name, brand, model, mileage):\n",
    "    bike_inventory[bike_name] = Bike(brand, model, mileage)\n",
    "    print(f\"{bike_name} added to inventory!\")\n",
    "    \n",
    "def display_bikes():\n",
    "    print(\"Bike inventory:\")\n",
    "    for bike_name, bike in bike_inventory.items():\n",
    "        print(f\"{bike_name}: {bike}\")\n",
    "\n",
    "display_bikes()\n",
    "buy_bike(\"Bike 2\")\n",
    "display_bikes()\n",
    "add_bike(\"Bike 4\", \"Harley-Davidson\", \"Sportster 883\", \"20 kmpl\")\n",
    "display_bikes()\n"
   ]
  },
  {
   "cell_type": "code",
   "execution_count": 8,
   "metadata": {},
   "outputs": [
    {
     "name": "stdout",
     "output_type": "stream",
     "text": [
      "Bikes in inventory:\n",
      "Honda CBR1000RR: Mileage 35\n",
      "Yamaha R6: Mileage 40\n",
      "Bikes in inventory:\n",
      "Yamaha R6: Mileage 40\n"
     ]
    }
   ],
   "source": [
    "class Bike:\n",
    "    def __init__(self, brand, model, mileage):\n",
    "        self.brand = brand\n",
    "        self.model = model\n",
    "        self.mileage = mileage\n",
    "        \n",
    "class BikeManager:\n",
    "    def __init__(self):\n",
    "        self.bikes = {}\n",
    "    \n",
    "    def add_bike(self, bike):\n",
    "        key = f\"{bike.brand} {bike.model}\"\n",
    "        self.bikes[key] = bike\n",
    "        \n",
    "    def remove_bike(self, brand, model):\n",
    "        key = f\"{brand} {model}\"\n",
    "        if key in self.bikes:\n",
    "            del self.bikes[key]\n",
    "        \n",
    "    def display_bikes(self):\n",
    "        if len(self.bikes) == 0:\n",
    "            print(\"No bikes in inventory.\")\n",
    "        else:\n",
    "            print(\"Bikes in inventory:\")\n",
    "            for key, bike in self.bikes.items():\n",
    "                print(f\"{key}: Mileage {bike.mileage}\")\n",
    "manager = BikeManager()\n",
    "bike1 = Bike(\"Honda\", \"CBR1000RR\", 35)\n",
    "manager.add_bike(bike1)\n",
    "\n",
    "bike2 = Bike(\"Yamaha\", \"R6\", 40)\n",
    "manager.add_bike(bike2)\n",
    "manager.display_bikes()\n",
    "manager.remove_bike(\"Honda\", \"CBR1000RR\")\n",
    "manager.display_bikes()"
   ]
  },
  {
   "cell_type": "code",
   "execution_count": 9,
   "metadata": {},
   "outputs": [
    {
     "name": "stdout",
     "output_type": "stream",
     "text": [
      "In class B\n",
      "In class A\n"
     ]
    }
   ],
   "source": [
    "class A:\n",
    "    def msg_a(self):\n",
    "        print('In class A')\n",
    "class B(A):\n",
    "    def msg_b(self):\n",
    "        print('In class B')\n",
    "ob=B()\n",
    "ob.msg_b()\n",
    "ob.msg_a()\n",
    "#Single Inheritance"
   ]
  },
  {
   "cell_type": "code",
   "execution_count": 10,
   "metadata": {},
   "outputs": [
    {
     "name": "stdout",
     "output_type": "stream",
     "text": [
      "In class C\n",
      "In class B\n",
      "In class A\n"
     ]
    }
   ],
   "source": [
    "class A:\n",
    "    def msg_a(self):\n",
    "        print('In class A')\n",
    "class B(A):\n",
    "    def msg_b(self):\n",
    "        print('In class B')\n",
    "class C(B):\n",
    "    def msg_c(self):\n",
    "        print('In class C')\n",
    "ob=C()\n",
    "ob.msg_c()\n",
    "ob.msg_b()\n",
    "ob.msg_a()\n",
    "#Mutlilevel Inheritance"
   ]
  },
  {
   "cell_type": "code",
   "execution_count": 11,
   "metadata": {},
   "outputs": [
    {
     "name": "stdout",
     "output_type": "stream",
     "text": [
      "In class A\n"
     ]
    }
   ],
   "source": [
    "class A:\n",
    "    def msg(self):\n",
    "        print('In class A')\n",
    "class B:\n",
    "    def msg(self):\n",
    "        print('In class B')\n",
    "class C(A,B):\n",
    "    pass\n",
    "    \"\"\" def msg(self):\n",
    "        print('In class C') \"\"\"\n",
    "ob=C()\n",
    "ob.msg()\n",
    "#Multiple Inheritance"
   ]
  },
  {
   "cell_type": "code",
   "execution_count": 12,
   "metadata": {},
   "outputs": [
    {
     "name": "stdout",
     "output_type": "stream",
     "text": [
      "In class C\n",
      "In class B\n",
      "In class A\n"
     ]
    }
   ],
   "source": [
    "class A:\n",
    "    def msg_a(self):\n",
    "        print('In class A')\n",
    "class B(A):\n",
    "    def msg_b(self):\n",
    "        print('In class B')\n",
    "class C(A):\n",
    "    def msg_c(self):\n",
    "        print('In class C')\n",
    "ob=C()\n",
    "ob.msg_c()\n",
    "o=B()\n",
    "o.msg_b()\n",
    "ob.msg_a()\n",
    "#Hierarchial Inheritance"
   ]
  },
  {
   "cell_type": "code",
   "execution_count": 13,
   "metadata": {},
   "outputs": [
    {
     "name": "stdout",
     "output_type": "stream",
     "text": [
      "In class D\n",
      "In class C\n",
      "In class B\n",
      "In class A\n"
     ]
    }
   ],
   "source": [
    "class A:\n",
    "    def msg_a(self):\n",
    "        print('In class A')\n",
    "class B(A):\n",
    "    def msg_b(self):\n",
    "        print('In class B')\n",
    "class C(B):\n",
    "    def msg_c(self):\n",
    "        print('In class C')\n",
    "class D(B):\n",
    "    def msg_d(self):\n",
    "        print('In class D')\n",
    "ob=D()\n",
    "ob.msg_d()\n",
    "a=C()\n",
    "a.msg_c()\n",
    "ob.msg_b()\n",
    "ob.msg_a()\n"
   ]
  },
  {
   "cell_type": "code",
   "execution_count": 14,
   "metadata": {},
   "outputs": [
    {
     "name": "stdout",
     "output_type": "stream",
     "text": [
      "In class E\n",
      "In class D\n",
      "In class C\n",
      "In class B\n",
      "In class A\n"
     ]
    }
   ],
   "source": [
    "class A:\n",
    "    def msg_a(self):\n",
    "        print('In class A')\n",
    "class B(A):\n",
    "    def msg_b(self):\n",
    "        print('In class B')\n",
    "class C(A):\n",
    "    def msg_c(self):\n",
    "        print('In class C')\n",
    "class D(B,C):\n",
    "    def msg_d(self):\n",
    "        print('In class D')\n",
    "class E(D):\n",
    "    def msg_e(self):\n",
    "        print('In class E')\n",
    "ob=E()\n",
    "ob.msg_e()\n",
    "ob.msg_d()\n",
    "ob.msg_c()\n",
    "ob.msg_b()\n",
    "ob.msg_a()"
   ]
  },
  {
   "cell_type": "code",
   "execution_count": 15,
   "metadata": {},
   "outputs": [
    {
     "name": "stdout",
     "output_type": "stream",
     "text": [
      "In class A\n",
      "In class B\n"
     ]
    }
   ],
   "source": [
    "class A:\n",
    "    def msg_a(self):\n",
    "        print('In class A')\n",
    "class B(A):\n",
    "    def msg_b(self):\n",
    "        super().msg_a()\n",
    "        print('In class B')\n",
    "ob=B()\n",
    "ob.msg_b()\n",
    "#Super keyword"
   ]
  },
  {
   "cell_type": "code",
   "execution_count": 2,
   "metadata": {},
   "outputs": [
    {
     "name": "stdout",
     "output_type": "stream",
     "text": [
      "In class A\n",
      "In class B\n"
     ]
    }
   ],
   "source": [
    "class A:\n",
    "    def msg_a(self):\n",
    "        print('In class A')\n",
    "class B(A):\n",
    "    def msg_b(self):\n",
    "        A().msg_a()\n",
    "        print('In class B')\n",
    "ob=B()\n",
    "ob.msg_b()"
   ]
  },
  {
   "attachments": {},
   "cell_type": "markdown",
   "metadata": {},
   "source": [
    "HYD -> BLR\n",
    "BLR -> CHE\n",
    "CHE -> GOI\n",
    "GOI -> MUB\n",
    "\n",
    "SOURCE: HYD\n",
    "DEST: MUB"
   ]
  },
  {
   "cell_type": "code",
   "execution_count": 66,
   "metadata": {},
   "outputs": [
    {
     "name": "stdout",
     "output_type": "stream",
     "text": [
      "['hyd', 'blr', 'che', 'goi', 'mub']\n"
     ]
    }
   ],
   "source": [
    "d={\n",
    "    \"hyd\":\"blr\",\n",
    "    \"blr\":\"che\",\n",
    "    \"che\":\"goi\",\n",
    "    \"goi\":\"mub\"\n",
    "}\n",
    "sou='hyd'\n",
    "cur=sou\n",
    "des='mub'\n",
    "l=[]\n",
    "while(cur!=des):\n",
    "    l.append(cur)\n",
    "    try:\n",
    "        cur=d[cur]\n",
    "    except:\n",
    "        print(\"NO such path\")\n",
    "        l.clear()\n",
    "        break\n",
    "if cur==des:\n",
    "    l.append(cur)\n",
    "print(l)"
   ]
  },
  {
   "cell_type": "code",
   "execution_count": 64,
   "metadata": {},
   "outputs": [
    {
     "name": "stdout",
     "output_type": "stream",
     "text": [
      "No path exists between hyd and mub\n"
     ]
    }
   ],
   "source": [
    "graph = {\n",
    "    \"hyd\": \"blr\",\n",
    "    \"blr\": \"del\",\n",
    "    \"blr\": \"che\",\n",
    "    \"che\": \"goi\",\n",
    "    \"goi\": \"mub\"\n",
    "}\n",
    "\n",
    "def is_path_exists(graph, start, end):\n",
    "    queue = [start]\n",
    "    visited = set()\n",
    "\n",
    "    while queue:\n",
    "        node = queue.pop(0)\n",
    "\n",
    "        if node == end:\n",
    "            return True\n",
    "\n",
    "        if node not in visited:\n",
    "            visited.add(node)\n",
    "            neighbors = graph.get(node)\n",
    "\n",
    "            if neighbors:\n",
    "                queue.extend(neighbors)\n",
    "\n",
    "    return False\n",
    "\n",
    "start = \"hyd\"\n",
    "end = \"mub\"\n",
    "if is_path_exists(graph, start, end):\n",
    "    print(f\"A path exists between {start} and {end}\")\n",
    "else:\n",
    "    print(f\"No path exists between {start} and {end}\")\n"
   ]
  },
  {
   "cell_type": "code",
   "execution_count": 6,
   "metadata": {},
   "outputs": [
    {
     "name": "stdout",
     "output_type": "stream",
     "text": [
      "Message with data\n"
     ]
    }
   ],
   "source": [
    "class A:\n",
    "    def msg(self):\n",
    "        print('Message')\n",
    "    def msg(self,data):\n",
    "        print('Message with data')\n",
    "ob=A()\n",
    "ob.msg(10)\n",
    "#Method Overriding"
   ]
  },
  {
   "cell_type": "code",
   "execution_count": 7,
   "metadata": {},
   "outputs": [
    {
     "name": "stdout",
     "output_type": "stream",
     "text": [
      "Message with data\n"
     ]
    }
   ],
   "source": [
    "class A:\n",
    "    def msg(self):\n",
    "        print('Message')\n",
    "    def msg(self):\n",
    "        print('Message with data')\n",
    "ob=A()\n",
    "ob.msg()\n",
    "#Method Overriding"
   ]
  },
  {
   "cell_type": "code",
   "execution_count": 18,
   "metadata": {},
   "outputs": [
    {
     "name": "stdout",
     "output_type": "stream",
     "text": [
      "Hello\n"
     ]
    }
   ],
   "source": [
    "#Abstraction\n",
    "from abc import ABC,abstractmethod\n",
    "class Ex(ABC):\n",
    "    @abstractmethod\n",
    "    def msg(self):\n",
    "        print('Hi there')\n",
    "class Student(Ex):\n",
    "    def msg(self):\n",
    "        print(\"Hello\")\n",
    "ob=Student()\n",
    "ob.msg()"
   ]
  },
  {
   "cell_type": "code",
   "execution_count": 20,
   "metadata": {},
   "outputs": [
    {
     "name": "stdout",
     "output_type": "stream",
     "text": [
      "hello\n"
     ]
    }
   ],
   "source": [
    "from abc import ABC,abstractmethod   \n",
    "#abc-abstract base class \n",
    "class example(ABC):\n",
    "    @abstractmethod \n",
    "    #in abstract method we can define the body or 'pass' should be provided\n",
    "    def method_one(self):\n",
    "        print(\"h\")\n",
    "    #we should overide the method present in abstract class\n",
    "class exam(example):\n",
    "    def method_one(self):\n",
    "        print(\"hello\")\n",
    "ob=exam()\n",
    "ob.method_one()"
   ]
  },
  {
   "cell_type": "code",
   "execution_count": 32,
   "metadata": {},
   "outputs": [
    {
     "name": "stdout",
     "output_type": "stream",
     "text": [
      "Inorder traversal \n",
      "4->2->5->1->3->\n",
      "Preorder traversal \n",
      "1->2->4->5->3->\n",
      "Postorder traversal \n",
      "4->5->2->3->1->"
     ]
    }
   ],
   "source": [
    "# Tree traversal in Python\n",
    "\n",
    "\n",
    "class Node:\n",
    "    def __init__(self, item):\n",
    "        self.left = None\n",
    "        self.right = None\n",
    "        self.val = item\n",
    "\n",
    "\n",
    "def inorder(root):\n",
    "\n",
    "    if root:\n",
    "        # Traverse left\n",
    "        inorder(root.left)\n",
    "        # Traverse root\n",
    "        print(str(root.val) + \"->\", end='')\n",
    "        # Traverse right\n",
    "        inorder(root.right)\n",
    "\n",
    "\n",
    "def postorder(root):\n",
    "\n",
    "    if root:\n",
    "        # Traverse left\n",
    "        postorder(root.left)\n",
    "        # Traverse right\n",
    "        postorder(root.right)\n",
    "        # Traverse root\n",
    "        print(str(root.val) + \"->\", end='')\n",
    "\n",
    "\n",
    "def preorder(root):\n",
    "\n",
    "    if root:\n",
    "        # Traverse root\n",
    "        print(str(root.val) + \"->\", end='')\n",
    "        # Traverse left\n",
    "        preorder(root.left)\n",
    "        # Traverse right\n",
    "        preorder(root.right)\n",
    "\n",
    "\n",
    "root = Node(1)\n",
    "root.left = Node(2)\n",
    "root.right = Node(3)\n",
    "root.left.left = Node(4)\n",
    "root.left.right = Node(5)\n",
    "\n",
    "print(\"Inorder traversal \")\n",
    "inorder(root)\n",
    "\n",
    "print(\"\\nPreorder traversal \")\n",
    "preorder(root)\n",
    "\n",
    "print(\"\\nPostorder traversal \")\n",
    "postorder(root)"
   ]
  },
  {
   "cell_type": "code",
   "execution_count": 31,
   "metadata": {},
   "outputs": [
    {
     "name": "stdout",
     "output_type": "stream",
     "text": [
      "2 5 6 10 12 15 17 \n",
      "10 5 2 6 15 12 17 \n",
      "2 6 5 12 17 15 10 \n",
      "10 5 15 2 6 12 17 \n",
      "572\n",
      "2\n"
     ]
    }
   ],
   "source": [
    "#Tree & Tree Traversal\n",
    "class Node:\n",
    "    def __init__(self,value):\n",
    "        self.data=value\n",
    "        self.left=None\n",
    "        self.right=None\n",
    "\n",
    "class Tree:\n",
    "    def add_ele(self,root,value):\n",
    "        new_node=Node(value)\n",
    "        if value<root.data:\n",
    "            if root.left==None:\n",
    "                root.left=new_node\n",
    "            else:\n",
    "                self.add_ele(root.left,value)\n",
    "        else:\n",
    "            if root.right==None:\n",
    "                root.right=new_node\n",
    "            else:\n",
    "                self.add_ele(root.right,value)\n",
    "\n",
    "    def inorder(self,root):\n",
    "        if root.left!=None:\n",
    "            self.inorder(root.left)\n",
    "        print(root.data,end=\" \")\n",
    "        if root.right!=None:\n",
    "            self.inorder(root.right)\n",
    "\n",
    "    def preorder(self,root):\n",
    "        print(root.data,end=\" \")\n",
    "        if root.left!=None:\n",
    "            self.preorder(root.left)\n",
    "        if root.right!=None:\n",
    "            self.preorder(root.right)\n",
    "    \n",
    "    def postorder(self,root):\n",
    "        if root.left!=None:\n",
    "            self.postorder(root.left)\n",
    "        if root.right!=None:\n",
    "            self.postorder(root.right)\n",
    "        print(root.data,end=\" \")\n",
    "    \n",
    "    def levelorder(self,root):\n",
    "        q=[root]\n",
    "        while len(q)!=0:\n",
    "            ele=q.pop(0)\n",
    "            print(ele.data,end=' ')\n",
    "            if ele.left!=None:\n",
    "                q.append(ele.left)\n",
    "            if ele.right!=None:\n",
    "                q.append(ele.right)\n",
    "    #ADD left and right subtree and multiply them together\n",
    "    def sum(self,root):\n",
    "        res=root.data\n",
    "        if root.left!=None:\n",
    "            res+=self.sum(root.left)\n",
    "        if root.right!=None:\n",
    "            res+=self.sum(root.right)\n",
    "        return res\n",
    "    #Height of tree\n",
    "    def height(self,root):\n",
    "        if root==None:\n",
    "            return -1\n",
    "        left_height = self.height(root.left)\n",
    "        right_height = self.height(root.right)\n",
    "        return 1+max(left_height,right_height)\n",
    "    \n",
    "ob=Tree()\n",
    "root=Node(10)\n",
    "ob.add_ele(root,5)\n",
    "ob.add_ele(root,15)\n",
    "ob.add_ele(root,2)\n",
    "ob.add_ele(root,6)\n",
    "ob.add_ele(root,12)\n",
    "ob.add_ele(root,17)\n",
    "ob.inorder(root)\n",
    "print()\n",
    "ob.preorder(root)\n",
    "print()\n",
    "ob.postorder(root)\n",
    "print()\n",
    "ob.levelorder(root)\n",
    "print()\n",
    "print(ob.sum(root.left)*ob.sum(root.right))\n",
    "print(ob.height(root))"
   ]
  },
  {
   "cell_type": "code",
   "execution_count": 47,
   "metadata": {},
   "outputs": [
    {
     "name": "stdout",
     "output_type": "stream",
     "text": [
      "50 10 30 40 20 "
     ]
    }
   ],
   "source": [
    "#BFT\n",
    "graph={\n",
    "    10:[20,40,50],\n",
    "    20:[10,40],\n",
    "    30:[40,50],\n",
    "    40:[10,20,30,50],\n",
    "    50:[10,30,40]\n",
    "}\n",
    "def BFT(graph,node):\n",
    "    visited=[node]\n",
    "    q=[node]\n",
    "    while q:\n",
    "        m=q.pop(0)\n",
    "        print(m,end=' ')\n",
    "        for i in graph[m]:\n",
    "            if i not in visited:\n",
    "                visited.append(i)\n",
    "                q.append(i)\n",
    "BFT(graph,int(input()))"
   ]
  },
  {
   "cell_type": "code",
   "execution_count": 35,
   "metadata": {},
   "outputs": [
    {
     "name": "stdout",
     "output_type": "stream",
     "text": [
      "20 10 40 30 50 "
     ]
    }
   ],
   "source": [
    "#DFT\n",
    "graph={\n",
    "    10:[20,40,50],\n",
    "    20:[10,40],\n",
    "    30:[40,50],\n",
    "    40:[10,20,30,50],\n",
    "    50:[10,30,40]\n",
    "}\n",
    "visited=[]\n",
    "def DFT(visited,graph,node):\n",
    "    if node not in visited:\n",
    "        print(node,end=' ')\n",
    "        visited.append(node)\n",
    "        for i in graph[node]:\n",
    "            DFT(visited,graph,i)\n",
    "DFT(visited,graph,20)"
   ]
  },
  {
   "cell_type": "code",
   "execution_count": 32,
   "metadata": {},
   "outputs": [
    {
     "name": "stdout",
     "output_type": "stream",
     "text": [
      "H B A D C E K "
     ]
    }
   ],
   "source": [
    "#DFT\n",
    "graph={\n",
    "    'A':['B','D','C'],\n",
    "    'B':['A','D','H'],\n",
    "    'C':['A','B','E'],\n",
    "    'D':['A','B','C','E','K'],\n",
    "    'E':['C','D'],\n",
    "    'H':['B'],\n",
    "    'K':['D']\n",
    "}\n",
    "def DFT(graph,node,visited=None):\n",
    "    if visited is None:\n",
    "        visited=[]\n",
    "    visited.append(node)\n",
    "    print(node,end=' ')\n",
    "    for i in graph[node]:\n",
    "        if i not in visited:\n",
    "            visited.append(i)\n",
    "            DFT(graph,i,visited)\n",
    "DFT(graph,'H')"
   ]
  },
  {
   "cell_type": "code",
   "execution_count": 45,
   "metadata": {},
   "outputs": [
    {
     "name": "stdout",
     "output_type": "stream",
     "text": [
      "There is a path from (0,0) to (1,3)\n"
     ]
    }
   ],
   "source": [
    "def has_path(matrix, x, y):\n",
    "    visited = [[False for _ in range(len(matrix[0]))] for _ in range(len(matrix))]\n",
    "    \n",
    "    def dfs(row, col, x, y):\n",
    "        if row == x and col == y:\n",
    "            return True\n",
    "        \n",
    "        visited[row][col] = True\n",
    "        neighbors = [(row-1, col), (row+1, col), (row, col-1), (row, col+1)]\n",
    "        for n_row, n_col in neighbors:\n",
    "            if 0 <= n_row < len(matrix) and 0 <= n_col < len(matrix[0]) and matrix[n_row][n_col] == 1 and not visited[n_row][n_col]:\n",
    "                if dfs(n_row, n_col, x, y):\n",
    "                    return True\n",
    "        \n",
    "        return False\n",
    "    \n",
    "    return dfs(0, 0, x, y)\n",
    "matrix = [[1, 0, 0, 0],\n",
    "          [1, 1, 0, 1],\n",
    "          [0, 1, 0, 1],\n",
    "          [1, 1, 1, 1]]\n",
    "\n",
    "x, y = 1, 3\n",
    "if has_path(matrix, x, y):\n",
    "    print(\"There is a path from (0,0) to ({},{})\".format(x,y))\n",
    "else:\n",
    "    print(\"There is no path from (0,0) to ({},{})\".format(x,y))\n"
   ]
  },
  {
   "cell_type": "code",
   "execution_count": 54,
   "metadata": {},
   "outputs": [
    {
     "name": "stdout",
     "output_type": "stream",
     "text": [
      "Path from (0,0) to (3,3): [0, 1, 0, 0, 0, 1, 0]\n"
     ]
    }
   ],
   "source": [
    "def find_path(matrix, end_row, end_col):\n",
    "    stack = [(0, 0)]\n",
    "    while stack:\n",
    "        row, col = stack[-1]\n",
    "        if row == end_row and col == end_col:\n",
    "            # Found a path from (0,0) to (end_row,end_col)\n",
    "            path = [matrix[r][c] for r, c in stack]\n",
    "            print(\"Path from (0,0) to ({},{}): {}\".format(end_row, end_col, path))\n",
    "            return\n",
    "        found = False\n",
    "        for n_row, n_col in [(row-1, col), (row+1, col), (row, col-1), (row, col+1)]:\n",
    "            if 0 <= n_row < len(matrix) and 0 <= n_col < len(matrix[0]) and matrix[n_row][n_col] == 1:\n",
    "                found = True\n",
    "                stack.append((n_row, n_col))\n",
    "                matrix[n_row][n_col] = 0  # Mark as visited\n",
    "                break\n",
    "        if not found:\n",
    "            # No unvisited neighbors found, backtrack\n",
    "            matrix[row][col] = 0  # Mark as visited\n",
    "            stack.pop()\n",
    "            if stack:\n",
    "                prev_row, prev_col = stack[-1]\n",
    "                matrix[prev_row][prev_col] = 1  # Restore previous node value\n",
    "    # No path found\n",
    "    print(\"No path found from (0,0) to ({},{}).\".format(end_row, end_col))\n",
    "\n",
    "# Example usage:\n",
    "matrix = [[1, 0, 0, 0],\n",
    "          [1, 1, 0, 1],\n",
    "          [0, 1, 0, 0],\n",
    "          [1, 1, 1, 1]]\n",
    "find_path(matrix, 3, 3)\n"
   ]
  }
 ],
 "metadata": {
  "kernelspec": {
   "display_name": "Python 3",
   "language": "python",
   "name": "python3"
  },
  "language_info": {
   "codemirror_mode": {
    "name": "ipython",
    "version": 3
   },
   "file_extension": ".py",
   "mimetype": "text/x-python",
   "name": "python",
   "nbconvert_exporter": "python",
   "pygments_lexer": "ipython3",
   "version": "3.11.2"
  },
  "orig_nbformat": 4
 },
 "nbformat": 4,
 "nbformat_minor": 2
}
